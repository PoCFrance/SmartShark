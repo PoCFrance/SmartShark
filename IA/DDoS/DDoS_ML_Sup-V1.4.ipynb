{
 "cells": [
  {
   "cell_type": "markdown",
   "metadata": {},
   "source": [
    "# DDoS_ML_Sup-V1.3"
   ]
  },
  {
   "cell_type": "markdown",
   "metadata": {},
   "source": [
    "## Résumé de différentes étapes:\n",
    "\n",
    "\n",
    "### A - Créer une Dataset \n",
    "##### * Analyser les information requise\n",
    "##### * Analyser la quantiter de paquets moyennés nécéssaire dans chaque info\n",
    "#### * Créer une pré-dataset\n",
    "#### * Transformer la pré-dataset en dataset final\n",
    "\n",
    "### B - Créer un réseau de neurones convenable\n",
    "##### * Analyser le nombre d'entrée\n",
    "##### * Entrainer les neurones\n",
    "##### * Analyser les résultats\n",
    "##### * Ajuster\n",
    "\n",
    "### C - Analyser les résultat de l'IA"
   ]
  },
  {
   "cell_type": "markdown",
   "metadata": {},
   "source": [
    "\n",
    "\n",
    "\n",
    "### A - 1 - Créer une Dataset\n",
    "- Poids moyen des paquets\n",
    "- Delta time moyen entre chaque paquets\n",
    "- Pourcentage d'uttilisation de chaque protocole\n",
    "- Nombre de paquets par seconde\n",
    "- Pourcentage de fois la meme IP src/dst\n",
    "- Pourcentage de fois le meme port src/dst\n",
    "\n",
    "### A - 2 - Créer une Dataset\n",
    "1er éssaie: Un éssai sur des groupes de 100 paquets"
   ]
  },
  {
   "cell_type": "markdown",
   "metadata": {},
   "source": [
    "### A - 3 - Créer une Dataset\n",
    "\n",
    "#### Note:\n",
    "Pourquoi pas rajouter l'écart moyen entre la len moyenne ?\n",
    "Pourquoi pas rajouter le timeflow de chaque ?\n",
    "\n",
    "###### Pré-Dataset:\n",
    "Timestamp | Delta time | Len paquets fwd | Len paquets bwd | Ip src | port src | Ip dst | Port dst | Protocole | Label\n",
    "\n",
    "\n",
    "###### Dataset final:\n",
    "   Delta Time | Len paquets Fwd| Len paquets Bwd | Paquet/s | % meme Ip src | % meme port src | % meme Ip dst | % meme port dst |  totalité protocole\n",
    "\n",
    "###### Création et utilisation de: ds_create.py"
   ]
  },
  {
   "cell_type": "code",
   "execution_count": 1,
   "metadata": {},
   "outputs": [],
   "source": [
    "import matplotlib.pyplot as plt\n",
    "import tensorflow as tf\n",
    "import numpy as np\n",
    "import pandas as pd\n",
    "import sys\n",
    "import datetime\n",
    "from sklearn.utils import shuffle"
   ]
  },
  {
   "cell_type": "markdown",
   "metadata": {},
   "source": [
    "### Importation de la dataset"
   ]
  },
  {
   "cell_type": "code",
   "execution_count": 2,
   "metadata": {},
   "outputs": [],
   "source": [
    "path_to_benign_csv = \"/run/media/Thytu/TOSHIBA EXT/PoC/Smartshark/DS/ds_benign_cleared_div_3_16rows.csv\"\n",
    "path_to_ddos_csv = \"/run/media/Thytu/TOSHIBA EXT/PoC/Smartshark/DS/ds_DDOS_16rows.csv\""
   ]
  },
  {
   "cell_type": "markdown",
   "metadata": {},
   "source": [
    "### Avoir une idée de la dataset"
   ]
  },
  {
   "cell_type": "code",
   "execution_count": 4,
   "metadata": {},
   "outputs": [],
   "source": [
    "benign_csv = pd.read_csv(path_to_benign_csv, names=[\"SourcePort\", \"DestinationPort\", \"Protocol\", \"FlowDuration\", \"TotalFwdPackets\", \"TotalBackwardPackets\", \"TotalLengthofFwdPackets\", \"TotalLengthofBwdPackets\", \"FwdPacketLengthMean\", \"FwdPacketLengthStd\", \"BwdPacketLengthMean\", \"BwdPacketLengthStd\", \"PacketLengthMean\", \"PacketLengthStd\", \"PacketLengthVariance\", \"AveragePacketSize\"], dtype='float')\n",
    "ddos_csv = pd.read_csv(path_to_ddos_csv, names=[\"SourcePort\", \"DestinationPort\", \"Protocol\", \"FlowDuration\", \"TotalFwdPackets\", \"TotalBackwardPackets\", \"TotalLengthofFwdPackets\", \"TotalLengthofBwdPackets\", \"FwdPacketLengthMean\", \"FwdPacketLengthStd\", \"BwdPacketLengthMean\", \"BwdPacketLengthStd\", \"PacketLengthMean\", \"PacketLengthStd\", \"PacketLengthVariance\", \"AveragePacketSize\"], dtype='float')"
   ]
  },
  {
   "cell_type": "code",
   "execution_count": 5,
   "metadata": {},
   "outputs": [
    {
     "data": {
      "text/html": [
       "<div>\n",
       "<style scoped>\n",
       "    .dataframe tbody tr th:only-of-type {\n",
       "        vertical-align: middle;\n",
       "    }\n",
       "\n",
       "    .dataframe tbody tr th {\n",
       "        vertical-align: top;\n",
       "    }\n",
       "\n",
       "    .dataframe thead th {\n",
       "        text-align: right;\n",
       "    }\n",
       "</style>\n",
       "<table border=\"1\" class=\"dataframe\">\n",
       "  <thead>\n",
       "    <tr style=\"text-align: right;\">\n",
       "      <th></th>\n",
       "      <th>SourcePort</th>\n",
       "      <th>DestinationPort</th>\n",
       "      <th>Protocol</th>\n",
       "      <th>FlowDuration</th>\n",
       "      <th>TotalFwdPackets</th>\n",
       "      <th>TotalBackwardPackets</th>\n",
       "      <th>TotalLengthofFwdPackets</th>\n",
       "      <th>TotalLengthofBwdPackets</th>\n",
       "      <th>FwdPacketLengthMean</th>\n",
       "      <th>FwdPacketLengthStd</th>\n",
       "      <th>BwdPacketLengthMean</th>\n",
       "      <th>BwdPacketLengthStd</th>\n",
       "      <th>PacketLengthMean</th>\n",
       "      <th>PacketLengthStd</th>\n",
       "      <th>PacketLengthVariance</th>\n",
       "      <th>AveragePacketSize</th>\n",
       "    </tr>\n",
       "  </thead>\n",
       "  <tbody>\n",
       "    <tr>\n",
       "      <th>3085831</th>\n",
       "      <td>48831.0</td>\n",
       "      <td>53.0</td>\n",
       "      <td>17.0</td>\n",
       "      <td>278203.0</td>\n",
       "      <td>1.0</td>\n",
       "      <td>1.0</td>\n",
       "      <td>35.0</td>\n",
       "      <td>307.0</td>\n",
       "      <td>35.0</td>\n",
       "      <td>0.000000</td>\n",
       "      <td>307.0</td>\n",
       "      <td>0.000000</td>\n",
       "      <td>125.666667</td>\n",
       "      <td>157.039273</td>\n",
       "      <td>24661.333333</td>\n",
       "      <td>188.50</td>\n",
       "    </tr>\n",
       "    <tr>\n",
       "      <th>3085832</th>\n",
       "      <td>15188.0</td>\n",
       "      <td>53.0</td>\n",
       "      <td>17.0</td>\n",
       "      <td>304.0</td>\n",
       "      <td>1.0</td>\n",
       "      <td>1.0</td>\n",
       "      <td>37.0</td>\n",
       "      <td>290.0</td>\n",
       "      <td>37.0</td>\n",
       "      <td>0.000000</td>\n",
       "      <td>290.0</td>\n",
       "      <td>0.000000</td>\n",
       "      <td>121.333333</td>\n",
       "      <td>146.069618</td>\n",
       "      <td>21336.333333</td>\n",
       "      <td>182.00</td>\n",
       "    </tr>\n",
       "    <tr>\n",
       "      <th>3085833</th>\n",
       "      <td>60209.0</td>\n",
       "      <td>53.0</td>\n",
       "      <td>17.0</td>\n",
       "      <td>3215689.0</td>\n",
       "      <td>1.0</td>\n",
       "      <td>1.0</td>\n",
       "      <td>33.0</td>\n",
       "      <td>358.0</td>\n",
       "      <td>33.0</td>\n",
       "      <td>0.000000</td>\n",
       "      <td>358.0</td>\n",
       "      <td>0.000000</td>\n",
       "      <td>141.333333</td>\n",
       "      <td>187.638837</td>\n",
       "      <td>35208.333333</td>\n",
       "      <td>212.00</td>\n",
       "    </tr>\n",
       "    <tr>\n",
       "      <th>3085834</th>\n",
       "      <td>32726.0</td>\n",
       "      <td>53.0</td>\n",
       "      <td>17.0</td>\n",
       "      <td>20586683.0</td>\n",
       "      <td>2.0</td>\n",
       "      <td>2.0</td>\n",
       "      <td>76.0</td>\n",
       "      <td>765.0</td>\n",
       "      <td>38.0</td>\n",
       "      <td>2.828427</td>\n",
       "      <td>382.5</td>\n",
       "      <td>58.689863</td>\n",
       "      <td>175.400000</td>\n",
       "      <td>191.326423</td>\n",
       "      <td>36605.800000</td>\n",
       "      <td>219.25</td>\n",
       "    </tr>\n",
       "    <tr>\n",
       "      <th>3085835</th>\n",
       "      <td>54499.0</td>\n",
       "      <td>53.0</td>\n",
       "      <td>17.0</td>\n",
       "      <td>4634023.0</td>\n",
       "      <td>1.0</td>\n",
       "      <td>1.0</td>\n",
       "      <td>32.0</td>\n",
       "      <td>320.0</td>\n",
       "      <td>32.0</td>\n",
       "      <td>0.000000</td>\n",
       "      <td>320.0</td>\n",
       "      <td>0.000000</td>\n",
       "      <td>128.000000</td>\n",
       "      <td>166.276878</td>\n",
       "      <td>27648.000000</td>\n",
       "      <td>1.00</td>\n",
       "    </tr>\n",
       "  </tbody>\n",
       "</table>\n",
       "</div>"
      ],
      "text/plain": [
       "         SourcePort  DestinationPort  Protocol  FlowDuration  TotalFwdPackets  \\\n",
       "3085831     48831.0             53.0      17.0      278203.0              1.0   \n",
       "3085832     15188.0             53.0      17.0         304.0              1.0   \n",
       "3085833     60209.0             53.0      17.0     3215689.0              1.0   \n",
       "3085834     32726.0             53.0      17.0    20586683.0              2.0   \n",
       "3085835     54499.0             53.0      17.0     4634023.0              1.0   \n",
       "\n",
       "         TotalBackwardPackets  TotalLengthofFwdPackets  \\\n",
       "3085831                   1.0                     35.0   \n",
       "3085832                   1.0                     37.0   \n",
       "3085833                   1.0                     33.0   \n",
       "3085834                   2.0                     76.0   \n",
       "3085835                   1.0                     32.0   \n",
       "\n",
       "         TotalLengthofBwdPackets  FwdPacketLengthMean  FwdPacketLengthStd  \\\n",
       "3085831                    307.0                 35.0            0.000000   \n",
       "3085832                    290.0                 37.0            0.000000   \n",
       "3085833                    358.0                 33.0            0.000000   \n",
       "3085834                    765.0                 38.0            2.828427   \n",
       "3085835                    320.0                 32.0            0.000000   \n",
       "\n",
       "         BwdPacketLengthMean  BwdPacketLengthStd  PacketLengthMean  \\\n",
       "3085831                307.0            0.000000        125.666667   \n",
       "3085832                290.0            0.000000        121.333333   \n",
       "3085833                358.0            0.000000        141.333333   \n",
       "3085834                382.5           58.689863        175.400000   \n",
       "3085835                320.0            0.000000        128.000000   \n",
       "\n",
       "         PacketLengthStd  PacketLengthVariance  AveragePacketSize  \n",
       "3085831       157.039273          24661.333333             188.50  \n",
       "3085832       146.069618          21336.333333             182.00  \n",
       "3085833       187.638837          35208.333333             212.00  \n",
       "3085834       191.326423          36605.800000             219.25  \n",
       "3085835       166.276878          27648.000000               1.00  "
      ]
     },
     "execution_count": 5,
     "metadata": {},
     "output_type": "execute_result"
    }
   ],
   "source": [
    "benign_csv.tail()"
   ]
  },
  {
   "cell_type": "code",
   "execution_count": 6,
   "metadata": {},
   "outputs": [
    {
     "data": {
      "text/html": [
       "<div>\n",
       "<style scoped>\n",
       "    .dataframe tbody tr th:only-of-type {\n",
       "        vertical-align: middle;\n",
       "    }\n",
       "\n",
       "    .dataframe tbody tr th {\n",
       "        vertical-align: top;\n",
       "    }\n",
       "\n",
       "    .dataframe thead th {\n",
       "        text-align: right;\n",
       "    }\n",
       "</style>\n",
       "<table border=\"1\" class=\"dataframe\">\n",
       "  <thead>\n",
       "    <tr style=\"text-align: right;\">\n",
       "      <th></th>\n",
       "      <th>SourcePort</th>\n",
       "      <th>DestinationPort</th>\n",
       "      <th>Protocol</th>\n",
       "      <th>FlowDuration</th>\n",
       "      <th>TotalFwdPackets</th>\n",
       "      <th>TotalBackwardPackets</th>\n",
       "      <th>TotalLengthofFwdPackets</th>\n",
       "      <th>TotalLengthofBwdPackets</th>\n",
       "      <th>FwdPacketLengthMean</th>\n",
       "      <th>FwdPacketLengthStd</th>\n",
       "      <th>BwdPacketLengthMean</th>\n",
       "      <th>BwdPacketLengthStd</th>\n",
       "      <th>PacketLengthMean</th>\n",
       "      <th>PacketLengthStd</th>\n",
       "      <th>PacketLengthVariance</th>\n",
       "      <th>AveragePacketSize</th>\n",
       "    </tr>\n",
       "  </thead>\n",
       "  <tbody>\n",
       "    <tr>\n",
       "      <th>2113229</th>\n",
       "      <td>610.0</td>\n",
       "      <td>9866.0</td>\n",
       "      <td>17.0</td>\n",
       "      <td>2.0</td>\n",
       "      <td>2.0</td>\n",
       "      <td>0.0</td>\n",
       "      <td>2912.0</td>\n",
       "      <td>0.0</td>\n",
       "      <td>1456.0</td>\n",
       "      <td>0.0</td>\n",
       "      <td>0.0</td>\n",
       "      <td>0.0</td>\n",
       "      <td>1456.0</td>\n",
       "      <td>0.0</td>\n",
       "      <td>0.0</td>\n",
       "      <td>2184.0</td>\n",
       "    </tr>\n",
       "    <tr>\n",
       "      <th>2113230</th>\n",
       "      <td>611.0</td>\n",
       "      <td>2923.0</td>\n",
       "      <td>17.0</td>\n",
       "      <td>2.0</td>\n",
       "      <td>2.0</td>\n",
       "      <td>0.0</td>\n",
       "      <td>2944.0</td>\n",
       "      <td>0.0</td>\n",
       "      <td>1472.0</td>\n",
       "      <td>0.0</td>\n",
       "      <td>0.0</td>\n",
       "      <td>0.0</td>\n",
       "      <td>1472.0</td>\n",
       "      <td>0.0</td>\n",
       "      <td>0.0</td>\n",
       "      <td>2208.0</td>\n",
       "    </tr>\n",
       "    <tr>\n",
       "      <th>2113231</th>\n",
       "      <td>612.0</td>\n",
       "      <td>1220.0</td>\n",
       "      <td>17.0</td>\n",
       "      <td>3.0</td>\n",
       "      <td>2.0</td>\n",
       "      <td>0.0</td>\n",
       "      <td>2944.0</td>\n",
       "      <td>0.0</td>\n",
       "      <td>1472.0</td>\n",
       "      <td>0.0</td>\n",
       "      <td>0.0</td>\n",
       "      <td>0.0</td>\n",
       "      <td>1472.0</td>\n",
       "      <td>0.0</td>\n",
       "      <td>0.0</td>\n",
       "      <td>2208.0</td>\n",
       "    </tr>\n",
       "    <tr>\n",
       "      <th>2113232</th>\n",
       "      <td>613.0</td>\n",
       "      <td>12648.0</td>\n",
       "      <td>17.0</td>\n",
       "      <td>2.0</td>\n",
       "      <td>2.0</td>\n",
       "      <td>0.0</td>\n",
       "      <td>2944.0</td>\n",
       "      <td>0.0</td>\n",
       "      <td>1472.0</td>\n",
       "      <td>0.0</td>\n",
       "      <td>0.0</td>\n",
       "      <td>0.0</td>\n",
       "      <td>1472.0</td>\n",
       "      <td>0.0</td>\n",
       "      <td>0.0</td>\n",
       "      <td>2208.0</td>\n",
       "    </tr>\n",
       "    <tr>\n",
       "      <th>2113233</th>\n",
       "      <td>614.0</td>\n",
       "      <td>10295.0</td>\n",
       "      <td>17.0</td>\n",
       "      <td>2.0</td>\n",
       "      <td>2.0</td>\n",
       "      <td>0.0</td>\n",
       "      <td>2944.0</td>\n",
       "      <td>0.0</td>\n",
       "      <td>1472.0</td>\n",
       "      <td>0.0</td>\n",
       "      <td>0.0</td>\n",
       "      <td>0.0</td>\n",
       "      <td>1472.0</td>\n",
       "      <td>0.0</td>\n",
       "      <td>0.0</td>\n",
       "      <td>2208.0</td>\n",
       "    </tr>\n",
       "  </tbody>\n",
       "</table>\n",
       "</div>"
      ],
      "text/plain": [
       "         SourcePort  DestinationPort  Protocol  FlowDuration  TotalFwdPackets  \\\n",
       "2113229       610.0           9866.0      17.0           2.0              2.0   \n",
       "2113230       611.0           2923.0      17.0           2.0              2.0   \n",
       "2113231       612.0           1220.0      17.0           3.0              2.0   \n",
       "2113232       613.0          12648.0      17.0           2.0              2.0   \n",
       "2113233       614.0          10295.0      17.0           2.0              2.0   \n",
       "\n",
       "         TotalBackwardPackets  TotalLengthofFwdPackets  \\\n",
       "2113229                   0.0                   2912.0   \n",
       "2113230                   0.0                   2944.0   \n",
       "2113231                   0.0                   2944.0   \n",
       "2113232                   0.0                   2944.0   \n",
       "2113233                   0.0                   2944.0   \n",
       "\n",
       "         TotalLengthofBwdPackets  FwdPacketLengthMean  FwdPacketLengthStd  \\\n",
       "2113229                      0.0               1456.0                 0.0   \n",
       "2113230                      0.0               1472.0                 0.0   \n",
       "2113231                      0.0               1472.0                 0.0   \n",
       "2113232                      0.0               1472.0                 0.0   \n",
       "2113233                      0.0               1472.0                 0.0   \n",
       "\n",
       "         BwdPacketLengthMean  BwdPacketLengthStd  PacketLengthMean  \\\n",
       "2113229                  0.0                 0.0            1456.0   \n",
       "2113230                  0.0                 0.0            1472.0   \n",
       "2113231                  0.0                 0.0            1472.0   \n",
       "2113232                  0.0                 0.0            1472.0   \n",
       "2113233                  0.0                 0.0            1472.0   \n",
       "\n",
       "         PacketLengthStd  PacketLengthVariance  AveragePacketSize  \n",
       "2113229              0.0                   0.0             2184.0  \n",
       "2113230              0.0                   0.0             2208.0  \n",
       "2113231              0.0                   0.0             2208.0  \n",
       "2113232              0.0                   0.0             2208.0  \n",
       "2113233              0.0                   0.0             2208.0  "
      ]
     },
     "execution_count": 6,
     "metadata": {},
     "output_type": "execute_result"
    }
   ],
   "source": [
    "ddos_csv.tail()"
   ]
  },
  {
   "cell_type": "markdown",
   "metadata": {},
   "source": [
    "### Préparation finale de la dataset\n",
    "#### Mélange des deux dataset pour en former plus qu'une seul et création des labels"
   ]
  },
  {
   "cell_type": "markdown",
   "metadata": {},
   "source": [
    "#### Suffling the dataset"
   ]
  },
  {
   "cell_type": "code",
   "execution_count": 7,
   "metadata": {},
   "outputs": [],
   "source": [
    "benign_csv = shuffle(benign_csv)\n",
    "ddos_scsv = shuffle(ddos_csv)"
   ]
  },
  {
   "cell_type": "code",
   "execution_count": 8,
   "metadata": {},
   "outputs": [],
   "source": [
    "benign_csv = benign_csv.values.reshape(len(benign_csv), 16)\n",
    "ddos_csv = ddos_csv.values.reshape(len(ddos_csv), 16)\n",
    "\n",
    "def create_mixed_data_set_with_label(benign, ddos):\n",
    "    dataset = []\n",
    "    label = []\n",
    "    index_benign = 0\n",
    "    index_ddos = 0\n",
    "    index = 0\n",
    "    while (index < (len(benign) + len(ddos) - 1)):\n",
    "        if (index % 2 and index_benign < len(benign)):\n",
    "            dataset.append(benign[index_benign])\n",
    "            index_benign += 1\n",
    "            label.append(0)\n",
    "        elif index_ddos < len(ddos):\n",
    "            dataset.append(ddos[index_ddos])\n",
    "            index_ddos += 1\n",
    "            label.append(1)\n",
    "        index += 1\n",
    "    return (dataset, label)\n",
    "dataset, label = create_mixed_data_set_with_label(benign_csv, ddos_csv)"
   ]
  },
  {
   "cell_type": "markdown",
   "metadata": {},
   "source": [
    "##### Dataset reduction (optional)"
   ]
  },
  {
   "cell_type": "code",
   "execution_count": 9,
   "metadata": {},
   "outputs": [],
   "source": [
    "reduction_facteur = 0.3 # <= 1\n",
    "\n",
    "dataset = dataset[:int(len(dataset) * reduction_facteur)]\n",
    "label = label[:int(len(label) * reduction_facteur)]"
   ]
  },
  {
   "cell_type": "markdown",
   "metadata": {},
   "source": [
    "#### Diminiuer l'effet des grands nombres pour facilité l'apprentissage du réseau"
   ]
  },
  {
   "cell_type": "code",
   "execution_count": 10,
   "metadata": {},
   "outputs": [],
   "source": [
    "from sklearn.preprocessing import StandardScaler\n",
    "\n",
    "scaler = StandardScaler()\n",
    "dataset = scaler.fit_transform(dataset)"
   ]
  },
  {
   "cell_type": "markdown",
   "metadata": {},
   "source": [
    "#### Création de la DS de test"
   ]
  },
  {
   "cell_type": "code",
   "execution_count": 11,
   "metadata": {},
   "outputs": [],
   "source": [
    "test = dataset[0:int(len(dataset) * 0.2)]\n",
    "test_label = label[0:int(len(label) * 0.2)]\n",
    "\n",
    "dataset = dataset[int(len(dataset) * 0.2):]\n",
    "label = label[int(len(label) * 0.2):]"
   ]
  },
  {
   "cell_type": "markdown",
   "metadata": {},
   "source": [
    "#### Transformation de la list en np.array"
   ]
  },
  {
   "cell_type": "code",
   "execution_count": 12,
   "metadata": {},
   "outputs": [],
   "source": [
    "label = np.array(label)\n",
    "test_label = np.array(test_label)"
   ]
  },
  {
   "cell_type": "markdown",
   "metadata": {},
   "source": [
    "##### Shuffle des DS"
   ]
  },
  {
   "cell_type": "code",
   "execution_count": 13,
   "metadata": {},
   "outputs": [],
   "source": [
    "dataset, label = shuffle(dataset, label)\n",
    "test, test_label = shuffle(test, test_label)"
   ]
  },
  {
   "cell_type": "markdown",
   "metadata": {},
   "source": [
    "#### Création du model "
   ]
  },
  {
   "cell_type": "code",
   "execution_count": 14,
   "metadata": {},
   "outputs": [],
   "source": [
    "model = tf.keras.Sequential([\n",
    "  tf.keras.layers.Dense(16, activation=\"relu\", input_shape=(16,)),\n",
    "    #tf.keras.layers.Dropout(0.3),\n",
    "    tf.keras.layers.Dense(8, activation=\"relu\"),\n",
    "  tf.keras.layers.Dense(2, activation=\"softmax\")\n",
    "])\n",
    "model.compile(\n",
    "    loss=\"sparse_categorical_crossentropy\",\n",
    "    optimizer=\"sgd\",\n",
    "    metrics=[\"accuracy\"]\n",
    ")"
   ]
  },
  {
   "cell_type": "markdown",
   "metadata": {},
   "source": [
    "##### Logs creation"
   ]
  },
  {
   "cell_type": "code",
   "execution_count": 15,
   "metadata": {},
   "outputs": [],
   "source": [
    "logs_path = \"logs/fit/\" + datetime.datetime.now().strftime(\"%Y%m%d-%H%M%S\")\n",
    "tensorboard_callback = tf.keras.callbacks.TensorBoard(log_dir=logs_path, histogram_freq=1)"
   ]
  },
  {
   "cell_type": "markdown",
   "metadata": {},
   "source": [
    "#### Entrainement du model"
   ]
  },
  {
   "cell_type": "code",
   "execution_count": 16,
   "metadata": {},
   "outputs": [
    {
     "name": "stdout",
     "output_type": "stream",
     "text": [
      "Train on 1131064 samples, validate on 282766 samples\n",
      "1131064/1131064 [==============================] - 92s 81us/sample - loss: 0.0290 - accuracy: 0.9928 - val_loss: 0.0318 - val_accuracy: 0.9964\n"
     ]
    }
   ],
   "source": [
    "history = model.fit(dataset, label, epochs=1, validation_data=(test, test_label), callbacks=[tensorboard_callback])"
   ]
  },
  {
   "cell_type": "markdown",
   "metadata": {},
   "source": [
    "#### Résultat sous graphique du model"
   ]
  },
  {
   "cell_type": "code",
   "execution_count": 17,
   "metadata": {
    "scrolled": true
   },
   "outputs": [
    {
     "data": {
      "image/png": "[encoded data removed]",
      "text/plain": [
       "<Figure size 432x288 with 1 Axes>"
      ]
     },
     "metadata": {
      "needs_background": "light"
     },
     "output_type": "display_data"
    },
    {
     "data": {
      "image/png": "[encoded data removed]",
      "text/plain": [
       "<Figure size 432x288 with 1 Axes>"
      ]
     },
     "metadata": {
      "needs_background": "light"
     },
     "output_type": "display_data"
    }
   ],
   "source": [
    "loss_curve = history.history[\"loss\"]\n",
    "acc_curve = history.history[\"accuracy\"]\n",
    "\n",
    "plt.plot(loss_curve)\n",
    "plt.title(\"Loss\")\n",
    "plt.show()\n",
    "\n",
    "plt.plot(acc_curve)\n",
    "plt.title(\"Accuracy\")\n",
    "plt.show()"
   ]
  },
  {
   "cell_type": "code",
   "execution_count": 18,
   "metadata": {},
   "outputs": [
    {
     "name": "stdout",
     "output_type": "stream",
     "text": [
      "282766/282766 [==============================] - 0s 2us/sample - loss: 0.0318 - accuracy: 0.9964\n"
     ]
    },
    {
     "data": {
      "text/plain": [
       "[0.03181476285081361, 0.9963963]"
      ]
     },
     "execution_count": 18,
     "metadata": {},
     "output_type": "execute_result"
    }
   ],
   "source": [
    "model.evaluate(test, test_label, batch_size=1000)"
   ]
  },
  {
   "cell_type": "markdown",
   "metadata": {},
   "source": [
    "##### Creation of data to evaluate false positives number"
   ]
  },
  {
   "cell_type": "code",
   "execution_count": 21,
   "metadata": {},
   "outputs": [],
   "source": [
    "false_positives_test = scaler.fit_transform(benign_csv[len(benign_csv) - 100000:])\n",
    "false_positives_label = np.array([0] * 100_000)"
   ]
  },
  {
   "cell_type": "markdown",
   "metadata": {},
   "source": [
    "## Analyzing results"
   ]
  },
  {
   "cell_type": "markdown",
   "metadata": {},
   "source": [
    "#### Evaluation of false positives number"
   ]
  },
  {
   "cell_type": "code",
   "execution_count": 22,
   "metadata": {},
   "outputs": [
    {
     "name": "stdout",
     "output_type": "stream",
     "text": [
      "100000/100000 [==============================] - 1s 13us/sample - loss: 4.8787 - accuracy: 0.4506\n"
     ]
    },
    {
     "data": {
      "text/plain": [
       "[4.878682788133621, 0.45058]"
      ]
     },
     "execution_count": 22,
     "metadata": {},
     "output_type": "execute_result"
    }
   ],
   "source": [
    "model.evaluate(false_positives_test, false_positives_label, batch_size=100)"
   ]
  },
  {
   "cell_type": "markdown",
   "metadata": {},
   "source": [
    "##### Creation of data to evaluate false negatives number"
   ]
  },
  {
   "cell_type": "code",
   "execution_count": 24,
   "metadata": {},
   "outputs": [],
   "source": [
    "false_negatives_test = scaler.fit_transform(ddos_csv[len(ddos_csv) - 100_000:])\n",
    "false_negatives_label = np.array([1] * 100_000)"
   ]
  },
  {
   "cell_type": "markdown",
   "metadata": {},
   "source": [
    "#### Evaluation of false negatives number"
   ]
  },
  {
   "cell_type": "code",
   "execution_count": 25,
   "metadata": {},
   "outputs": [
    {
     "name": "stdout",
     "output_type": "stream",
     "text": [
      "100000/100000 [==============================] - 0s 2us/sample - loss: 0.9147 - accuracy: 0.9213\n"
     ]
    },
    {
     "data": {
      "text/plain": [
       "[0.9146973443031311, 0.92127]"
      ]
     },
     "execution_count": 25,
     "metadata": {},
     "output_type": "execute_result"
    }
   ],
   "source": [
    "model.evaluate(false_negatives_test, false_negatives_label, batch_size=1000)"
   ]
  },
  {
   "cell_type": "markdown",
   "metadata": {},
   "source": [
    "#### Same test on (splited) trained dataset"
   ]
  },
  {
   "cell_type": "code",
   "execution_count": 26,
   "metadata": {
    "scrolled": true
   },
   "outputs": [],
   "source": [
    "benign_verification_set = []\n",
    "ddos_verification_set = []\n",
    "\n",
    "for index, packet in enumerate(dataset):\n",
    "    if (label[index] == 1):\n",
    "        ddos_verification_set.append(dataset[index])\n",
    "    else:\n",
    "        benign_verification_set.append(dataset[index])\n",
    "\n",
    "benign_verification_label = [0] * len(benign_verification_set)\n",
    "ddos_verification_label = [1] * len(ddos_verification_set)\n",
    "\n",
    "benign_verification_set = np.array(benign_verification_set)\n",
    "benign_verification_label = np.array(benign_verification_label)\n",
    "\n",
    "ddos_verification_set = np.array(ddos_verification_set)\n",
    "ddos_verification_label = np.array(ddos_verification_label)"
   ]
  },
  {
   "cell_type": "code",
   "execution_count": 27,
   "metadata": {
    "scrolled": true
   },
   "outputs": [
    {
     "name": "stdout",
     "output_type": "stream",
     "text": [
      "565532/565532 [==============================] - 1s 2us/sample - loss: 0.0185 - accuracy: 0.9950\n"
     ]
    },
    {
     "data": {
      "text/plain": [
       "[0.018516065182009076, 0.9949817]"
      ]
     },
     "execution_count": 27,
     "metadata": {},
     "output_type": "execute_result"
    }
   ],
   "source": [
    "model.evaluate(benign_verification_set, benign_verification_label, batch_size=1000)"
   ]
  },
  {
   "cell_type": "code",
   "execution_count": 28,
   "metadata": {},
   "outputs": [
    {
     "name": "stdout",
     "output_type": "stream",
     "text": [
      "565532/565532 [==============================] - 1s 2us/sample - loss: 0.0175 - accuracy: 0.9936\n"
     ]
    },
    {
     "data": {
      "text/plain": [
       "[0.01753797017270635, 0.9936449]"
      ]
     },
     "execution_count": 28,
     "metadata": {},
     "output_type": "execute_result"
    }
   ],
   "source": [
    "model.evaluate(ddos_verification_set, ddos_verification_label, batch_size=1000)"
   ]
  },
  {
   "cell_type": "markdown",
   "metadata": {},
   "source": [
    "#### Same test on (splited) test dataset"
   ]
  },
  {
   "cell_type": "code",
   "execution_count": 29,
   "metadata": {},
   "outputs": [],
   "source": [
    "benign_verification_set = []\n",
    "ddos_verification_set = []\n",
    "\n",
    "for index, packet in enumerate(test):\n",
    "    if (test_label[index] == 1):\n",
    "        ddos_verification_set.append(test[index])\n",
    "    else:\n",
    "        benign_verification_set.append(test[index])\n",
    "\n",
    "benign_verification_label = [0] * len(benign_verification_set)\n",
    "ddos_verification_label = [1] * len(ddos_verification_set)\n",
    "\n",
    "benign_verification_set = np.array(benign_verification_set)\n",
    "benign_verification_label = np.array(benign_verification_label)\n",
    "\n",
    "ddos_verification_set = np.array(ddos_verification_set)\n",
    "ddos_verification_label = np.array(ddos_verification_label)"
   ]
  },
  {
   "cell_type": "code",
   "execution_count": 30,
   "metadata": {},
   "outputs": [
    {
     "name": "stdout",
     "output_type": "stream",
     "text": [
      "141383/141383 [==============================] - 0s 2us/sample - loss: 0.0195 - accuracy: 0.9946\n"
     ]
    },
    {
     "data": {
      "text/plain": [
       "[0.0194767298158559, 0.9945609]"
      ]
     },
     "execution_count": 30,
     "metadata": {},
     "output_type": "execute_result"
    }
   ],
   "source": [
    "model.evaluate(benign_verification_set, benign_verification_label, batch_size=1000)"
   ]
  },
  {
   "cell_type": "code",
   "execution_count": 31,
   "metadata": {},
   "outputs": [
    {
     "name": "stdout",
     "output_type": "stream",
     "text": [
      "141383/141383 [==============================] - 0s 2us/sample - loss: 0.0442 - accuracy: 0.9982\n"
     ]
    },
    {
     "data": {
      "text/plain": [
       "[0.04415280181333126, 0.99823177]"
      ]
     },
     "execution_count": 31,
     "metadata": {},
     "output_type": "execute_result"
    }
   ],
   "source": [
    "model.evaluate(ddos_verification_set, ddos_verification_label, batch_size=1000)"
   ]
  },
  {
   "cell_type": "code",
   "execution_count": null,
   "metadata": {},
   "outputs": [],
   "source": []
  }
 ],
 "metadata": {
  "kernelspec": {
   "display_name": "Python 3",
   "language": "python",
   "name": "python3"
  },
  "language_info": {
   "codemirror_mode": {
    "name": "ipython",
    "version": 3
   },
   "file_extension": ".py",
   "mimetype": "text/x-python",
   "name": "python",
   "nbconvert_exporter": "python",
   "pygments_lexer": "ipython3",
   "version": "3.7.6"
  }
 },
 "nbformat": 4,
 "nbformat_minor": 4
}

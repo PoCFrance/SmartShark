{
 "cells": [
  {
   "cell_type": "markdown",
   "metadata": {},
   "source": [
    "# DDoS_ML_Sup-V1.1"
   ]
  },
  {
   "cell_type": "markdown",
   "metadata": {},
   "source": [
    "## Résumé de différentes étapes:\n",
    "\n",
    "\n",
    "### A - Créer une Dataset \n",
    "##### * Analyser les information requise\n",
    "##### * Analyser la quantiter de paquets moyennés nécéssaire dans chaque info\n",
    "#### * Créer une pré-dataset\n",
    "#### * Transformer la pré-dataset en dataset final\n",
    "\n",
    "### B - Créer un réseau de neurones convenable\n",
    "##### * Analyser le nombre d'entrée\n",
    "##### * Entrainer les neurones\n",
    "##### * Analyser les résultats\n",
    "##### * Ajuster\n",
    "\n",
    "### C - Analyser les résultat de l'IA"
   ]
  },
  {
   "cell_type": "markdown",
   "metadata": {},
   "source": [
    "\n",
    "\n",
    "\n",
    "### A - 1 - Créer une Dataset\n",
    "- Poids moyen des paquets\n",
    "- Delta time moyen entre chaque paquets\n",
    "- Pourcentage d'uttilisation de chaque protocole\n",
    "- Nombre de paquets par seconde\n",
    "- Pourcentage de fois la meme IP src/dst\n",
    "- Pourcentage de fois le meme port src/dst\n",
    "\n",
    "### A - 2 - Créer une Dataset\n",
    "1er éssaie: Un éssai sur des groupes de 100 paquets"
   ]
  },
  {
   "cell_type": "markdown",
   "metadata": {},
   "source": [
    "### A - 3 - Créer une Dataset\n",
    "\n",
    "#### Note:\n",
    "Pourquoi pas rajouter l'écart moyen entre la len moyenne ?\n",
    "Pourquoi pas rajouter le timeflow de chaque ?\n",
    "\n",
    "###### Pré-Dataset:\n",
    "Timestamp | Delta time | Len paquets fwd | Len paquets bwd | Ip src | port src | Ip dst | Port dst | Protocole | Label\n",
    "\n",
    "\n",
    "###### Dataset final:\n",
    "   Delta Time | Len paquets Fwd| Len paquets Bwd | Paquet/s | % meme Ip src | % meme port src | % meme Ip dst | % meme port dst |  totalité protocole\n",
    "\n",
    "###### Création et utilisation de: ds_create.py"
   ]
  },
  {
   "cell_type": "code",
   "execution_count": 52,
   "metadata": {},
   "outputs": [],
   "source": [
    "import matplotlib.pyplot as plt\n",
    "import tensorflow as tf\n",
    "import numpy as np\n",
    "import pandas as pd\n",
    "import sys\n",
    "import datetime"
   ]
  },
  {
   "cell_type": "markdown",
   "metadata": {},
   "source": [
    "### Importation de la dataset"
   ]
  },
  {
   "cell_type": "code",
   "execution_count": 53,
   "metadata": {},
   "outputs": [],
   "source": [
    "path_to_clean_csv = \"/run/media/Thytu/VDA/SmartShark/Datasets/DDoS/ds/Syn/Syn_ds_benign_5.csv\"\n",
    "path_to_bad_csv = \"/run/media/Thytu/VDA/SmartShark/Datasets/DDoS/ds/Syn/Syn_ds_ddos_5.csv\""
   ]
  },
  {
   "cell_type": "markdown",
   "metadata": {},
   "source": [
    "### Avoir une idée de la dataset"
   ]
  },
  {
   "cell_type": "code",
   "execution_count": 54,
   "metadata": {},
   "outputs": [],
   "source": [
    "clean_csv = pd.read_csv(path_to_clean_csv, names=[\"Delta Time\", \"Len paquets Fwd\", \"Len paquets Bwd\", \"Proto maj\", \"% meme Ip src\", \"% meme port src\", \"% meme Ip dst\", \"% meme port dst\"])\n",
    "bad_csv = pd.read_csv(path_to_bad_csv, names=[\"Delta Time\", \"Len paquets Fwd\", \"Len paquets Bwd\", \"Proto maj\", \"% meme Ip src\", \"% meme port src\", \"% meme Ip dst\", \"% meme port dst\"])"
   ]
  },
  {
   "cell_type": "code",
   "execution_count": 55,
   "metadata": {},
   "outputs": [
    {
     "data": {
      "text/html": [
       "<div>\n",
       "<style scoped>\n",
       "    .dataframe tbody tr th:only-of-type {\n",
       "        vertical-align: middle;\n",
       "    }\n",
       "\n",
       "    .dataframe tbody tr th {\n",
       "        vertical-align: top;\n",
       "    }\n",
       "\n",
       "    .dataframe thead th {\n",
       "        text-align: right;\n",
       "    }\n",
       "</style>\n",
       "<table border=\"1\" class=\"dataframe\">\n",
       "  <thead>\n",
       "    <tr style=\"text-align: right;\">\n",
       "      <th></th>\n",
       "      <th>Delta Time</th>\n",
       "      <th>Len paquets Fwd</th>\n",
       "      <th>Len paquets Bwd</th>\n",
       "      <th>Proto maj</th>\n",
       "      <th>% meme Ip src</th>\n",
       "      <th>% meme port src</th>\n",
       "      <th>% meme Ip dst</th>\n",
       "      <th>% meme port dst</th>\n",
       "    </tr>\n",
       "  </thead>\n",
       "  <tbody>\n",
       "    <tr>\n",
       "      <th>7152</th>\n",
       "      <td>102814.0</td>\n",
       "      <td>5392.0</td>\n",
       "      <td>16275.0</td>\n",
       "      <td>17</td>\n",
       "      <td>60.0</td>\n",
       "      <td>20.0</td>\n",
       "      <td>40.0</td>\n",
       "      <td>40.0</td>\n",
       "    </tr>\n",
       "    <tr>\n",
       "      <th>7153</th>\n",
       "      <td>123612.0</td>\n",
       "      <td>200.0</td>\n",
       "      <td>484.0</td>\n",
       "      <td>17</td>\n",
       "      <td>60.0</td>\n",
       "      <td>20.0</td>\n",
       "      <td>60.0</td>\n",
       "      <td>60.0</td>\n",
       "    </tr>\n",
       "    <tr>\n",
       "      <th>7154</th>\n",
       "      <td>92420.0</td>\n",
       "      <td>298.0</td>\n",
       "      <td>458.0</td>\n",
       "      <td>17</td>\n",
       "      <td>100.0</td>\n",
       "      <td>20.0</td>\n",
       "      <td>100.0</td>\n",
       "      <td>100.0</td>\n",
       "    </tr>\n",
       "    <tr>\n",
       "      <th>7155</th>\n",
       "      <td>40951.0</td>\n",
       "      <td>437.0</td>\n",
       "      <td>428.0</td>\n",
       "      <td>6</td>\n",
       "      <td>60.0</td>\n",
       "      <td>20.0</td>\n",
       "      <td>60.0</td>\n",
       "      <td>60.0</td>\n",
       "    </tr>\n",
       "    <tr>\n",
       "      <th>7156</th>\n",
       "      <td>74018.0</td>\n",
       "      <td>4740.0</td>\n",
       "      <td>220022.0</td>\n",
       "      <td>17</td>\n",
       "      <td>60.0</td>\n",
       "      <td>20.0</td>\n",
       "      <td>60.0</td>\n",
       "      <td>60.0</td>\n",
       "    </tr>\n",
       "  </tbody>\n",
       "</table>\n",
       "</div>"
      ],
      "text/plain": [
       "      Delta Time  Len paquets Fwd  Len paquets Bwd  Proto maj  % meme Ip src  \\\n",
       "7152    102814.0           5392.0          16275.0         17           60.0   \n",
       "7153    123612.0            200.0            484.0         17           60.0   \n",
       "7154     92420.0            298.0            458.0         17          100.0   \n",
       "7155     40951.0            437.0            428.0          6           60.0   \n",
       "7156     74018.0           4740.0         220022.0         17           60.0   \n",
       "\n",
       "      % meme port src  % meme Ip dst  % meme port dst  \n",
       "7152             20.0           40.0             40.0  \n",
       "7153             20.0           60.0             60.0  \n",
       "7154             20.0          100.0            100.0  \n",
       "7155             20.0           60.0             60.0  \n",
       "7156             20.0           60.0             60.0  "
      ]
     },
     "execution_count": 55,
     "metadata": {},
     "output_type": "execute_result"
    }
   ],
   "source": [
    "clean_csv.tail()"
   ]
  },
  {
   "cell_type": "code",
   "execution_count": 56,
   "metadata": {},
   "outputs": [
    {
     "data": {
      "text/html": [
       "<div>\n",
       "<style scoped>\n",
       "    .dataframe tbody tr th:only-of-type {\n",
       "        vertical-align: middle;\n",
       "    }\n",
       "\n",
       "    .dataframe tbody tr th {\n",
       "        vertical-align: top;\n",
       "    }\n",
       "\n",
       "    .dataframe thead th {\n",
       "        text-align: right;\n",
       "    }\n",
       "</style>\n",
       "<table border=\"1\" class=\"dataframe\">\n",
       "  <thead>\n",
       "    <tr style=\"text-align: right;\">\n",
       "      <th></th>\n",
       "      <th>Delta Time</th>\n",
       "      <th>Len paquets Fwd</th>\n",
       "      <th>Len paquets Bwd</th>\n",
       "      <th>Proto maj</th>\n",
       "      <th>% meme Ip src</th>\n",
       "      <th>% meme port src</th>\n",
       "      <th>% meme Ip dst</th>\n",
       "      <th>% meme port dst</th>\n",
       "    </tr>\n",
       "  </thead>\n",
       "  <tbody>\n",
       "    <tr>\n",
       "      <th>856945</th>\n",
       "      <td>122645.0</td>\n",
       "      <td>6342.0</td>\n",
       "      <td>0.0</td>\n",
       "      <td>17</td>\n",
       "      <td>60.0</td>\n",
       "      <td>80.0</td>\n",
       "      <td>60.0</td>\n",
       "      <td>40.0</td>\n",
       "    </tr>\n",
       "    <tr>\n",
       "      <th>856946</th>\n",
       "      <td>1042480.0</td>\n",
       "      <td>5422.0</td>\n",
       "      <td>0.0</td>\n",
       "      <td>17</td>\n",
       "      <td>60.0</td>\n",
       "      <td>100.0</td>\n",
       "      <td>60.0</td>\n",
       "      <td>40.0</td>\n",
       "    </tr>\n",
       "    <tr>\n",
       "      <th>856947</th>\n",
       "      <td>1219865.0</td>\n",
       "      <td>5348.0</td>\n",
       "      <td>0.0</td>\n",
       "      <td>17</td>\n",
       "      <td>60.0</td>\n",
       "      <td>100.0</td>\n",
       "      <td>60.0</td>\n",
       "      <td>40.0</td>\n",
       "    </tr>\n",
       "    <tr>\n",
       "      <th>856948</th>\n",
       "      <td>1238451.0</td>\n",
       "      <td>4320.0</td>\n",
       "      <td>12.0</td>\n",
       "      <td>17</td>\n",
       "      <td>60.0</td>\n",
       "      <td>80.0</td>\n",
       "      <td>60.0</td>\n",
       "      <td>40.0</td>\n",
       "    </tr>\n",
       "    <tr>\n",
       "      <th>856949</th>\n",
       "      <td>8007105.0</td>\n",
       "      <td>5914.0</td>\n",
       "      <td>6722.0</td>\n",
       "      <td>17</td>\n",
       "      <td>80.0</td>\n",
       "      <td>60.0</td>\n",
       "      <td>80.0</td>\n",
       "      <td>40.0</td>\n",
       "    </tr>\n",
       "  </tbody>\n",
       "</table>\n",
       "</div>"
      ],
      "text/plain": [
       "        Delta Time  Len paquets Fwd  Len paquets Bwd  Proto maj  \\\n",
       "856945    122645.0           6342.0              0.0         17   \n",
       "856946   1042480.0           5422.0              0.0         17   \n",
       "856947   1219865.0           5348.0              0.0         17   \n",
       "856948   1238451.0           4320.0             12.0         17   \n",
       "856949   8007105.0           5914.0           6722.0         17   \n",
       "\n",
       "        % meme Ip src  % meme port src  % meme Ip dst  % meme port dst  \n",
       "856945           60.0             80.0           60.0             40.0  \n",
       "856946           60.0            100.0           60.0             40.0  \n",
       "856947           60.0            100.0           60.0             40.0  \n",
       "856948           60.0             80.0           60.0             40.0  \n",
       "856949           80.0             60.0           80.0             40.0  "
      ]
     },
     "execution_count": 56,
     "metadata": {},
     "output_type": "execute_result"
    }
   ],
   "source": [
    "bad_csv.tail()"
   ]
  },
  {
   "cell_type": "markdown",
   "metadata": {},
   "source": [
    "### Préparation finale de la dataset\n",
    "#### Mélange des deux dataset pour en former plus qu'une seul et création des labels"
   ]
  },
  {
   "cell_type": "code",
   "execution_count": 57,
   "metadata": {},
   "outputs": [
    {
     "name": "stdout",
     "output_type": "stream",
     "text": [
      "[104. 162.  48.   6.  80.  20.  80.  20.] 1\n"
     ]
    }
   ],
   "source": [
    "clean_csv = clean_csv.values.reshape(len(clean_csv), 8)\n",
    "bad_csv = bad_csv.values.reshape(len(bad_csv), 8)\n",
    "\n",
    "def create_mixed_data_set_with_label(cleaned, bad):\n",
    "    dataset = []\n",
    "    label = []\n",
    "    index_cleaned = 0\n",
    "    index_bad = 0\n",
    "    index = 0\n",
    "    while (index < (len(cleaned) + len(bad) - 1)):\n",
    "        if (index % 2 and index_cleaned < len(cleaned)):\n",
    "            dataset.append(cleaned[index_cleaned])\n",
    "            index_cleaned += 1\n",
    "            label.append(0)\n",
    "        else:\n",
    "            dataset.append(bad[index_bad])\n",
    "            index_bad += 1\n",
    "            label.append(1)\n",
    "        index += 1\n",
    "    return (dataset, label)\n",
    "dataset, label = create_mixed_data_set_with_label(clean_csv, bad_csv)\n",
    "print(dataset[0], label[0])"
   ]
  },
  {
   "cell_type": "markdown",
   "metadata": {},
   "source": [
    "#### Création de la DS de test"
   ]
  },
  {
   "cell_type": "code",
   "execution_count": 58,
   "metadata": {},
   "outputs": [],
   "source": [
    "test = dataset[0:int(len(dataset) * 0.2)]\n",
    "test_label = label[0:int(len(label) * 0.2)]\n",
    "dataset = dataset[int(len(dataset) * 0.2):]\n",
    "label = label[int(len(label) * 0.2):]"
   ]
  },
  {
   "cell_type": "markdown",
   "metadata": {},
   "source": [
    "#### Diminiuer l'effet des grands nombres pour facilité l'apprentissage du réseau"
   ]
  },
  {
   "cell_type": "code",
   "execution_count": 59,
   "metadata": {},
   "outputs": [
    {
     "name": "stdout",
     "output_type": "stream",
     "text": [
      "[201.  60.   0.   6. 100.  20. 100.  40.]\n",
      "[-0.01974031 -0.1985336  -0.43576927 -0.0268499   0.03055886 -0.02719831\n",
      "  0.03055886  2.83360184]\n"
     ]
    }
   ],
   "source": [
    "from sklearn.preprocessing import StandardScaler\n",
    "\n",
    "scaler = StandardScaler()\n",
    "print(dataset[0])\n",
    "dataset = scaler.fit_transform(dataset)\n",
    "test = scaler.fit_transform(test)\n",
    "print(dataset[0])"
   ]
  },
  {
   "cell_type": "code",
   "execution_count": 60,
   "metadata": {},
   "outputs": [],
   "source": [
    "test = dataset[0:int(len(dataset) * 0.2)]\n",
    "test_label = label[0:int(len(label) * 0.2)]\n",
    "dataset = dataset[int(len(dataset) * 0.2):]\n",
    "label = label[int(len(label) * 0.2):]"
   ]
  },
  {
   "cell_type": "markdown",
   "metadata": {},
   "source": [
    "#### Transformation de la list en np.array"
   ]
  },
  {
   "cell_type": "code",
   "execution_count": 61,
   "metadata": {},
   "outputs": [
    {
     "name": "stdout",
     "output_type": "stream",
     "text": [
      "(553028, 8) float64\n",
      "(553028,) int64\n",
      "(138257, 8)\n",
      "(138257,)\n"
     ]
    }
   ],
   "source": [
    "label = np.array(label)\n",
    "test_label = np.array(test_label)\n",
    "print(dataset.shape, dataset.dtype)\n",
    "print(label.shape, label.dtype)\n",
    "#print(test.shape, test.dtype)\n",
    "#print(test_label.shape, test_label.dtype)\n",
    "print(np.shape(test))\n",
    "print(np.shape(test_label))"
   ]
  },
  {
   "cell_type": "markdown",
   "metadata": {},
   "source": [
    "#### Création du model "
   ]
  },
  {
   "cell_type": "code",
   "execution_count": 62,
   "metadata": {},
   "outputs": [],
   "source": [
    "model = tf.keras.Sequential([\n",
    "  tf.keras.layers.Dense(8, activation=\"relu\", input_shape=(8,)),\n",
    "    tf.keras.layers.Dropout(0.3),\n",
    "    #tf.keras.layers.Dense(4, activation=\"relu\"),\n",
    "  tf.keras.layers.Dense(2, activation=\"softmax\")\n",
    "])\n",
    "model.compile(\n",
    "    loss=\"sparse_categorical_crossentropy\",\n",
    "    optimizer=\"sgd\",\n",
    "    metrics=[\"accuracy\"]\n",
    ")"
   ]
  },
  {
   "cell_type": "markdown",
   "metadata": {},
   "source": [
    "##### Logs creation"
   ]
  },
  {
   "cell_type": "code",
   "execution_count": 63,
   "metadata": {},
   "outputs": [],
   "source": [
    "logs_path = \"logs/fit/\" + datetime.datetime.now().strftime(\"%Y%m%d-%H%M%S\")\n",
    "tensorboard_callback = tf.keras.callbacks.TensorBoard(log_dir=logs_path, histogram_freq=1)"
   ]
  },
  {
   "cell_type": "markdown",
   "metadata": {},
   "source": [
    "#### Entrainement du model"
   ]
  },
  {
   "cell_type": "code",
   "execution_count": 64,
   "metadata": {},
   "outputs": [
    {
     "name": "stdout",
     "output_type": "stream",
     "text": [
      "Train on 553028 samples, validate on 138257 samples\n",
      "Epoch 1/2\n",
      "553028/553028 [==============================] - 40s 72us/sample - loss: 0.0139 - accuracy: 0.9993 - val_loss: 4.6462e-04 - val_accuracy: 1.0000\n",
      "Epoch 2/2\n",
      "553028/553028 [==============================] - 40s 73us/sample - loss: 0.0014 - accuracy: 1.0000 - val_loss: 1.7165e-04 - val_accuracy: 1.0000\n"
     ]
    }
   ],
   "source": [
    "history = model.fit(dataset, label, epochs=2, validation_data=(test, test_label), callbacks=[tensorboard_callback])"
   ]
  },
  {
   "cell_type": "markdown",
   "metadata": {},
   "source": [
    "#### Résultat sous graphique du model"
   ]
  },
  {
   "cell_type": "code",
   "execution_count": 65,
   "metadata": {
    "scrolled": true
   },
   "outputs": [
    {
     "data": {
      "image/png": "[encoded data removed]",
      "text/plain": [
       "<Figure size 432x288 with 1 Axes>"
      ]
     },
     "metadata": {
      "needs_background": "light"
     },
     "output_type": "display_data"
    },
    {
     "data": {
      "image/png": "[encoded data removed]",
      "text/plain": [
       "<Figure size 432x288 with 1 Axes>"
      ]
     },
     "metadata": {
      "needs_background": "light"
     },
     "output_type": "display_data"
    }
   ],
   "source": [
    "loss_curve = history.history[\"loss\"]\n",
    "acc_curve = history.history[\"accuracy\"]\n",
    "\n",
    "plt.plot(loss_curve)\n",
    "plt.title(\"Loss\")\n",
    "plt.show()\n",
    "\n",
    "plt.plot(acc_curve)\n",
    "plt.title(\"Accuracy\")\n",
    "plt.show()"
   ]
  },
  {
   "cell_type": "code",
   "execution_count": 66,
   "metadata": {},
   "outputs": [
    {
     "name": "stdout",
     "output_type": "stream",
     "text": [
      "138257/138257 [==============================] - 1s 7us/sample - loss: 1.7165e-04 - accuracy: 1.0000\n"
     ]
    },
    {
     "data": {
      "text/plain": [
       "[0.00017164946635002295, 1.0]"
      ]
     },
     "execution_count": 66,
     "metadata": {},
     "output_type": "execute_result"
    }
   ],
   "source": [
    "model.evaluate(test, test_label, batch_size=100)"
   ]
  }
 ],
 "metadata": {
  "kernelspec": {
   "display_name": "Python 3",
   "language": "python",
   "name": "python3"
  },
  "language_info": {
   "codemirror_mode": {
    "name": "ipython",
    "version": 3
   },
   "file_extension": ".py",
   "mimetype": "text/x-python",
   "name": "python",
   "nbconvert_exporter": "python",
   "pygments_lexer": "ipython3",
   "version": "3.7.6"
  }
 },
 "nbformat": 4,
 "nbformat_minor": 4
}

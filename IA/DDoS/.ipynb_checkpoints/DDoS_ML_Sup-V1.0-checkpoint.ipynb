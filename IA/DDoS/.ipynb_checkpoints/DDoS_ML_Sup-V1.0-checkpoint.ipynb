{
 "cells": [
  {
   "cell_type": "markdown",
   "metadata": {},
   "source": [
    "# DDoS_ML_Sup-V1.0"
   ]
  },
  {
   "cell_type": "markdown",
   "metadata": {},
   "source": [
    "## Résumé de différentes étapes:\n",
    "\n",
    "\n",
    "### A - Créer une Dataset \n",
    "##### * Analyser les information requise\n",
    "##### * Analyser la quantiter de paquets moyennés nécéssaire dans chaque info\n",
    "#### * Créer une pré-dataset\n",
    "#### * Transformer la pré-dataset en dataset final\n",
    "\n",
    "### B - Créer un réseau de neurones convenable\n",
    "##### * Analyser le nombre d'entrée\n",
    "##### * Entrainer les neurones\n",
    "##### * Analyser les résultats\n",
    "##### * Ajuster\n",
    "\n",
    "### C - Analyser les résultat de l'IA"
   ]
  },
  {
   "cell_type": "markdown",
   "metadata": {},
   "source": [
    "\n",
    "\n",
    "\n",
    "### A - 1 - Créer une Dataset\n",
    "- Poids moyen des paquets\n",
    "- Delta time moyen entre chaque paquets\n",
    "- Pourcentage d'uttilisation de chaque protocole\n",
    "- Nombre de paquets par seconde\n",
    "- Pourcentage de fois la meme IP src/dst\n",
    "- Pourcentage de fois le meme port src/dst\n",
    "\n",
    "### A - 2 - Créer une Dataset\n",
    "1er éssaie: Un éssai sur des groupes de 100 paquets"
   ]
  },
  {
   "cell_type": "markdown",
   "metadata": {},
   "source": [
    "### A - 3 - Créer une Dataset\n",
    "\n",
    "#### Note:\n",
    "Pourquoi pas rajouter l'écart moyen entre la len moyenne ?\n",
    "Pourquoi pas rajouter le timeflow de chaque ?\n",
    "\n",
    "###### Pré-Dataset:\n",
    "Timestamp | Delta time | Len paquets fwd | Len paquets bwd | Ip src | port src | Ip dst | Port dst | Protocole | Label\n",
    "\n",
    "\n",
    "###### Dataset final:\n",
    "   Delta Time | Len paquets Fwd| Len paquets Bwd | Paquet/s | % meme Ip src | % meme port src | % meme Ip dst | % meme port dst |  totalité protocole\n",
    "\n",
    "###### Création et utilisation de: ds_create.py"
   ]
  },
  {
   "cell_type": "code",
   "execution_count": 33,
   "metadata": {},
   "outputs": [],
   "source": [
    "import matplotlib.pyplot as plt\n",
    "import tensorflow as tf\n",
    "import numpy as np\n",
    "import pandas as pd\n",
    "import sys"
   ]
  },
  {
   "cell_type": "markdown",
   "metadata": {},
   "source": [
    "### Importation de la dataset"
   ]
  },
  {
   "cell_type": "code",
   "execution_count": 34,
   "metadata": {},
   "outputs": [],
   "source": [
    "path_to_clean_csv = \"/run/media/Thytu/VDA/SmartShark/Datasets/DDoS/ds/no_ddos.csv\"\n",
    "path_to_bad_csv = \"/run/media/Thytu/VDA/SmartShark/Datasets/DDoS/ds/only_ddos.csv\""
   ]
  },
  {
   "cell_type": "markdown",
   "metadata": {},
   "source": [
    "### Avoir une idée de la dataset"
   ]
  },
  {
   "cell_type": "code",
   "execution_count": 35,
   "metadata": {},
   "outputs": [],
   "source": [
    "clean_csv = pd.read_csv(path_to_clean_csv, names=[\"Delta Time\", \"Len paquets Fwd\", \"Len paquets Bwd\", \"Proto maj\", \"% meme Ip src\", \"% meme port src\", \"% meme Ip dst\", \"% meme port dst\"])\n",
    "bad_csv = pd.read_csv(path_to_bad_csv, names=[\"Delta Time\", \"Len paquets Fwd\", \"Len paquets Bwd\", \"Proto maj\", \"% meme Ip src\", \"% meme port src\", \"% meme Ip dst\", \"% meme port dst\"])"
   ]
  },
  {
   "cell_type": "code",
   "execution_count": 36,
   "metadata": {},
   "outputs": [
    {
     "data": {
      "text/html": [
       "<div>\n",
       "<style scoped>\n",
       "    .dataframe tbody tr th:only-of-type {\n",
       "        vertical-align: middle;\n",
       "    }\n",
       "\n",
       "    .dataframe tbody tr th {\n",
       "        vertical-align: top;\n",
       "    }\n",
       "\n",
       "    .dataframe thead th {\n",
       "        text-align: right;\n",
       "    }\n",
       "</style>\n",
       "<table border=\"1\" class=\"dataframe\">\n",
       "  <thead>\n",
       "    <tr style=\"text-align: right;\">\n",
       "      <th></th>\n",
       "      <th>Delta Time</th>\n",
       "      <th>Len paquets Fwd</th>\n",
       "      <th>Len paquets Bwd</th>\n",
       "      <th>Proto maj</th>\n",
       "      <th>% meme Ip src</th>\n",
       "      <th>% meme port src</th>\n",
       "      <th>% meme Ip dst</th>\n",
       "      <th>% meme port dst</th>\n",
       "    </tr>\n",
       "  </thead>\n",
       "  <tbody>\n",
       "    <tr>\n",
       "      <th>0</th>\n",
       "      <td>2104339.0</td>\n",
       "      <td>2232.0</td>\n",
       "      <td>552.0</td>\n",
       "      <td>6</td>\n",
       "      <td>72.727273</td>\n",
       "      <td>18.181818</td>\n",
       "      <td>18.181818</td>\n",
       "      <td>54.545455</td>\n",
       "    </tr>\n",
       "    <tr>\n",
       "      <th>1</th>\n",
       "      <td>107515.0</td>\n",
       "      <td>482.0</td>\n",
       "      <td>36.0</td>\n",
       "      <td>6</td>\n",
       "      <td>54.545455</td>\n",
       "      <td>45.454545</td>\n",
       "      <td>45.454545</td>\n",
       "      <td>54.545455</td>\n",
       "    </tr>\n",
       "    <tr>\n",
       "      <th>2</th>\n",
       "      <td>8000355.0</td>\n",
       "      <td>493.0</td>\n",
       "      <td>24.0</td>\n",
       "      <td>6</td>\n",
       "      <td>45.454545</td>\n",
       "      <td>36.363636</td>\n",
       "      <td>36.363636</td>\n",
       "      <td>45.454545</td>\n",
       "    </tr>\n",
       "    <tr>\n",
       "      <th>3</th>\n",
       "      <td>72477141.0</td>\n",
       "      <td>339.0</td>\n",
       "      <td>170.0</td>\n",
       "      <td>6</td>\n",
       "      <td>36.363636</td>\n",
       "      <td>45.454545</td>\n",
       "      <td>36.363636</td>\n",
       "      <td>36.363636</td>\n",
       "    </tr>\n",
       "    <tr>\n",
       "      <th>4</th>\n",
       "      <td>33603326.0</td>\n",
       "      <td>3890.0</td>\n",
       "      <td>31224.0</td>\n",
       "      <td>6</td>\n",
       "      <td>63.636364</td>\n",
       "      <td>18.181818</td>\n",
       "      <td>27.272727</td>\n",
       "      <td>27.272727</td>\n",
       "    </tr>\n",
       "  </tbody>\n",
       "</table>\n",
       "</div>"
      ],
      "text/plain": [
       "   Delta Time  Len paquets Fwd  Len paquets Bwd  Proto maj  % meme Ip src  \\\n",
       "0   2104339.0           2232.0            552.0          6      72.727273   \n",
       "1    107515.0            482.0             36.0          6      54.545455   \n",
       "2   8000355.0            493.0             24.0          6      45.454545   \n",
       "3  72477141.0            339.0            170.0          6      36.363636   \n",
       "4  33603326.0           3890.0          31224.0          6      63.636364   \n",
       "\n",
       "   % meme port src  % meme Ip dst  % meme port dst  \n",
       "0        18.181818      18.181818        54.545455  \n",
       "1        45.454545      45.454545        54.545455  \n",
       "2        36.363636      36.363636        45.454545  \n",
       "3        45.454545      36.363636        36.363636  \n",
       "4        18.181818      27.272727        27.272727  "
      ]
     },
     "execution_count": 36,
     "metadata": {},
     "output_type": "execute_result"
    }
   ],
   "source": [
    "clean_csv.head()"
   ]
  },
  {
   "cell_type": "code",
   "execution_count": 37,
   "metadata": {},
   "outputs": [
    {
     "data": {
      "text/html": [
       "<div>\n",
       "<style scoped>\n",
       "    .dataframe tbody tr th:only-of-type {\n",
       "        vertical-align: middle;\n",
       "    }\n",
       "\n",
       "    .dataframe tbody tr th {\n",
       "        vertical-align: top;\n",
       "    }\n",
       "\n",
       "    .dataframe thead th {\n",
       "        text-align: right;\n",
       "    }\n",
       "</style>\n",
       "<table border=\"1\" class=\"dataframe\">\n",
       "  <thead>\n",
       "    <tr style=\"text-align: right;\">\n",
       "      <th></th>\n",
       "      <th>Delta Time</th>\n",
       "      <th>Len paquets Fwd</th>\n",
       "      <th>Len paquets Bwd</th>\n",
       "      <th>Proto maj</th>\n",
       "      <th>% meme Ip src</th>\n",
       "      <th>% meme port src</th>\n",
       "      <th>% meme Ip dst</th>\n",
       "      <th>% meme port dst</th>\n",
       "    </tr>\n",
       "  </thead>\n",
       "  <tbody>\n",
       "    <tr>\n",
       "      <th>0</th>\n",
       "      <td>122485461.0</td>\n",
       "      <td>3050.0</td>\n",
       "      <td>4586.0</td>\n",
       "      <td>6</td>\n",
       "      <td>90.909091</td>\n",
       "      <td>18.181818</td>\n",
       "      <td>90.909091</td>\n",
       "      <td>18.181818</td>\n",
       "    </tr>\n",
       "    <tr>\n",
       "      <th>1</th>\n",
       "      <td>102957242.0</td>\n",
       "      <td>5776.0</td>\n",
       "      <td>8816.0</td>\n",
       "      <td>6</td>\n",
       "      <td>81.818182</td>\n",
       "      <td>18.181818</td>\n",
       "      <td>81.818182</td>\n",
       "      <td>36.363636</td>\n",
       "    </tr>\n",
       "    <tr>\n",
       "      <th>2</th>\n",
       "      <td>89095436.0</td>\n",
       "      <td>2906.0</td>\n",
       "      <td>4474.0</td>\n",
       "      <td>6</td>\n",
       "      <td>100.000000</td>\n",
       "      <td>18.181818</td>\n",
       "      <td>100.000000</td>\n",
       "      <td>9.090909</td>\n",
       "    </tr>\n",
       "    <tr>\n",
       "      <th>3</th>\n",
       "      <td>70065120.0</td>\n",
       "      <td>5444.0</td>\n",
       "      <td>11038.0</td>\n",
       "      <td>6</td>\n",
       "      <td>81.818182</td>\n",
       "      <td>18.181818</td>\n",
       "      <td>81.818182</td>\n",
       "      <td>36.363636</td>\n",
       "    </tr>\n",
       "    <tr>\n",
       "      <th>4</th>\n",
       "      <td>78350323.0</td>\n",
       "      <td>3010.0</td>\n",
       "      <td>4462.0</td>\n",
       "      <td>6</td>\n",
       "      <td>90.909091</td>\n",
       "      <td>18.181818</td>\n",
       "      <td>90.909091</td>\n",
       "      <td>27.272727</td>\n",
       "    </tr>\n",
       "  </tbody>\n",
       "</table>\n",
       "</div>"
      ],
      "text/plain": [
       "    Delta Time  Len paquets Fwd  Len paquets Bwd  Proto maj  % meme Ip src  \\\n",
       "0  122485461.0           3050.0           4586.0          6      90.909091   \n",
       "1  102957242.0           5776.0           8816.0          6      81.818182   \n",
       "2   89095436.0           2906.0           4474.0          6     100.000000   \n",
       "3   70065120.0           5444.0          11038.0          6      81.818182   \n",
       "4   78350323.0           3010.0           4462.0          6      90.909091   \n",
       "\n",
       "   % meme port src  % meme Ip dst  % meme port dst  \n",
       "0        18.181818      90.909091        18.181818  \n",
       "1        18.181818      81.818182        36.363636  \n",
       "2        18.181818     100.000000         9.090909  \n",
       "3        18.181818      81.818182        36.363636  \n",
       "4        18.181818      90.909091        27.272727  "
      ]
     },
     "execution_count": 37,
     "metadata": {},
     "output_type": "execute_result"
    }
   ],
   "source": [
    "bad_csv.head()"
   ]
  },
  {
   "cell_type": "markdown",
   "metadata": {},
   "source": [
    "### Préparation finale de la dataset\n",
    "#### Mélange des deux dataset pour en former plus qu'une seul et création des labels"
   ]
  },
  {
   "cell_type": "code",
   "execution_count": 38,
   "metadata": {},
   "outputs": [
    {
     "name": "stdout",
     "output_type": "stream",
     "text": [
      "[1.22485461e+08 3.05000000e+03 4.58600000e+03 6.00000000e+00\n",
      " 9.09090909e+01 1.81818182e+01 9.09090909e+01 1.81818182e+01] 1\n"
     ]
    }
   ],
   "source": [
    "clean_csv = clean_csv.values.reshape(430, 8)\n",
    "bad_csv = bad_csv.values.reshape(16996, 8)\n",
    "\n",
    "def create_mixed_data_set_with_label(cleaned, bad):\n",
    "    dataset = []\n",
    "    label = []\n",
    "    index_cleaned = 0\n",
    "    index_bad = 0\n",
    "    index = 0\n",
    "    while (index < (len(cleaned) + len(bad) - 1)):\n",
    "        if (index % 2 and index_cleaned < len(cleaned)):\n",
    "            dataset.append(cleaned[index_cleaned])\n",
    "            index_cleaned += 1\n",
    "            label.append(0)\n",
    "        else:\n",
    "            dataset.append(bad[index_bad])\n",
    "            index_bad += 1\n",
    "            label.append(1)\n",
    "        index += 1\n",
    "    return (dataset, label)\n",
    "dataset, label = create_mixed_data_set_with_label(clean_csv, bad_csv)\n",
    "print(dataset[0], label[0])"
   ]
  },
  {
   "cell_type": "markdown",
   "metadata": {},
   "source": [
    "#### Diminiuer l'effet des grands nombres pour facilité l'apprentissage du réseau"
   ]
  },
  {
   "cell_type": "code",
   "execution_count": 46,
   "metadata": {},
   "outputs": [
    {
     "name": "stdout",
     "output_type": "stream",
     "text": [
      "[ 0.7938153  -0.06007375  0.          0.          0.0369438   0.1565573\n",
      "  0.0369438  -0.0627819 ]\n",
      "[ 0.80032002 -0.05293304  0.          0.          0.0379049   0.69283157\n",
      "  0.0379049  -0.06857687]\n"
     ]
    }
   ],
   "source": [
    "test = dataset[0:int(len(dataset) * 0.2)]\n",
    "test_label = label[0:int(len(label) * 0.2)]\n",
    "dataset = dataset[int(len(dataset) * 0.2):]\n",
    "label = label[int(len(label) * 0.2):]\n",
    "\n",
    "from sklearn.preprocessing import StandardScaler\n",
    "\n",
    "scaler = StandardScaler()\n",
    "print(dataset[0])\n",
    "dataset = scaler.fit_transform(dataset)\n",
    "test = scaler.fit_transform(test)\n",
    "print(dataset[0])"
   ]
  },
  {
   "cell_type": "markdown",
   "metadata": {},
   "source": [
    "#### Transformation de la list en np.array"
   ]
  },
  {
   "cell_type": "code",
   "execution_count": 47,
   "metadata": {},
   "outputs": [
    {
     "name": "stdout",
     "output_type": "stream",
     "text": [
      "(11152, 8) float64\n",
      "(11152,) int64\n",
      "(2788, 8)\n",
      "(2788,)\n"
     ]
    }
   ],
   "source": [
    "label = np.array(label)\n",
    "test_label = np.array(test_label)\n",
    "print(dataset.shape, dataset.dtype)\n",
    "print(label.shape, label.dtype)\n",
    "#print(test.shape, test.dtype)\n",
    "#print(test_label.shape, test_label.dtype)\n",
    "print(np.shape(test))\n",
    "print(np.shape(test_label))"
   ]
  },
  {
   "cell_type": "markdown",
   "metadata": {},
   "source": [
    "#### Création du model "
   ]
  },
  {
   "cell_type": "code",
   "execution_count": 48,
   "metadata": {},
   "outputs": [],
   "source": [
    "model = tf.keras.Sequential([\n",
    "  tf.keras.layers.Dense(8, activation=\"relu\", input_shape=(8,)),\n",
    "    tf.keras.layers.Dense(4, activation=\"relu\"),\n",
    "  tf.keras.layers.Dense(2, activation=\"softmax\")\n",
    "])\n",
    "\n",
    "model.compile(\n",
    "    loss=\"sparse_categorical_crossentropy\",\n",
    "    optimizer=\"sgd\",\n",
    "    metrics=[\"accuracy\"]\n",
    ")"
   ]
  },
  {
   "cell_type": "markdown",
   "metadata": {},
   "source": [
    "#### Entrainement du model"
   ]
  },
  {
   "cell_type": "code",
   "execution_count": 49,
   "metadata": {},
   "outputs": [
    {
     "name": "stdout",
     "output_type": "stream",
     "text": [
      "Train on 11152 samples\n",
      "Epoch 1/2\n",
      "11152/11152 [==============================] - 1s 96us/sample - loss: 0.1189 - accuracy: 0.9830\n",
      "Epoch 2/2\n",
      "11152/11152 [==============================] - 1s 71us/sample - loss: 0.0153 - accuracy: 1.0000\n"
     ]
    }
   ],
   "source": [
    "history = model.fit(dataset, label, epochs=2)"
   ]
  },
  {
   "cell_type": "markdown",
   "metadata": {},
   "source": [
    "#### Résultat sous graphique du model"
   ]
  },
  {
   "cell_type": "code",
   "execution_count": 51,
   "metadata": {},
   "outputs": [
    {
     "name": "stdout",
     "output_type": "stream",
     "text": [
      "2788/2788 [==============================] - 0s 13us/sample - loss: 0.0092 - accuracy: 1.0000\n"
     ]
    },
    {
     "data": {
      "text/plain": [
       "[0.00917039640512387, 1.0]"
      ]
     },
     "execution_count": 51,
     "metadata": {},
     "output_type": "execute_result"
    }
   ],
   "source": [
    "model.evaluate(test, test_label, batch_size=100)"
   ]
  },
  {
   "cell_type": "code",
   "execution_count": null,
   "metadata": {
    "scrolled": true
   },
   "outputs": [],
   "source": [
    "loss_curve = history.history[\"loss\"]\n",
    "acc_curve = history.history[\"accuracy\"]\n",
    "\n",
    "plt.plot(loss_curve)\n",
    "plt.title(\"Loss\")\n",
    "plt.show()\n",
    "\n",
    "plt.plot(acc_curve)\n",
    "plt.title(\"Accuracy\")\n",
    "plt.show()"
   ]
  },
  {
   "cell_type": "code",
   "execution_count": null,
   "metadata": {},
   "outputs": [],
   "source": []
  },
  {
   "cell_type": "code",
   "execution_count": null,
   "metadata": {},
   "outputs": [],
   "source": []
  },
  {
   "cell_type": "code",
   "execution_count": null,
   "metadata": {},
   "outputs": [],
   "source": []
  },
  {
   "cell_type": "code",
   "execution_count": null,
   "metadata": {},
   "outputs": [],
   "source": []
  },
  {
   "cell_type": "code",
   "execution_count": null,
   "metadata": {},
   "outputs": [],
   "source": []
  }
 ],
 "metadata": {
  "kernelspec": {
   "display_name": "Python 3",
   "language": "python",
   "name": "python3"
  },
  "language_info": {
   "codemirror_mode": {
    "name": "ipython",
    "version": 3
   },
   "file_extension": ".py",
   "mimetype": "text/x-python",
   "name": "python",
   "nbconvert_exporter": "python",
   "pygments_lexer": "ipython3",
   "version": "3.7.6"
  }
 },
 "nbformat": 4,
 "nbformat_minor": 4
}

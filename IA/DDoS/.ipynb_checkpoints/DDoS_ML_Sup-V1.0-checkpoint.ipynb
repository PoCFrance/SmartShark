{
 "cells": [
  {
   "cell_type": "markdown",
   "metadata": {},
   "source": [
    "# DDoS_ML_Sup-V1.0"
   ]
  },
  {
   "cell_type": "markdown",
   "metadata": {},
   "source": [
    "## Résumé de différentes étapes:\n",
    "\n",
    "\n",
    "### A - Créer une Dataset \n",
    "##### * Analyser les information requise\n",
    "##### * Analyser la quantiter de paquets moyennés nécéssaire dans chaque info\n",
    "#### * Créer une pré-dataset\n",
    "#### * Transformer la pré-dataset en dataset final\n",
    "\n",
    "### B - Créer un réseau de neurones convenable\n",
    "##### * Analyser le nombre d'entrée\n",
    "##### * Entrainer les neurones\n",
    "##### * Analyser les résultats\n",
    "##### * Ajuster\n",
    "\n",
    "### C - Analyser les résultat de l'IA"
   ]
  },
  {
   "cell_type": "markdown",
   "metadata": {},
   "source": [
    "\n",
    "\n",
    "\n",
    "### A - 1 - Créer une Dataset\n",
    "- Poids moyen des paquets\n",
    "- Delta time moyen entre chaque paquets\n",
    "- Pourcentage d'uttilisation de chaque protocole\n",
    "- Nombre de paquets par seconde\n",
    "- Pourcentage de fois la meme IP src/dst\n",
    "- Pourcentage de fois le meme port src/dst\n",
    "\n",
    "### A - 2 - Créer une Dataset\n",
    "1er éssaie: Un éssai sur des groupes de 100 paquets"
   ]
  },
  {
   "cell_type": "markdown",
   "metadata": {},
   "source": [
    "### A - 3 - Créer une Dataset\n",
    "\n",
    "#### Note:\n",
    "Pourquoi pas rajouter l'écart moyen entre la len moyenne ?\n",
    "Pourquoi pas rajouter le timeflow de chaque ?\n",
    "\n",
    "###### Pré-Dataset:\n",
    "Timestamp | Delta time | Len paquets fwd | Len paquets bwd | Ip src | port src | Ip dst | Port dst | Protocole | Label\n",
    "\n",
    "\n",
    "###### Dataset final:\n",
    "   Delta Time | Len paquets Fwd| Len paquets Bwd | Paquet/s | % meme Ip src | % meme port src | % meme Ip dst | % meme port dst |  totalité protocole\n",
    "\n",
    "###### Création et utilisation de: ds_create.py"
   ]
  },
  {
   "cell_type": "code",
   "execution_count": 23,
   "metadata": {},
   "outputs": [],
   "source": [
    "import matplotlib.pyplot as plt\n",
    "import tensorflow as tf\n",
    "import numpy as np\n",
    "import pandas as pd\n",
    "import sys"
   ]
  },
  {
   "cell_type": "markdown",
   "metadata": {},
   "source": [
    "### Importation de la dataset"
   ]
  },
  {
   "cell_type": "code",
   "execution_count": 24,
   "metadata": {},
   "outputs": [],
   "source": [
    "path_to_clean_csv = \"/run/media/Thytu/VDA/SmartShark/Datasets/DDoS/ds/no_ddos.csv\"\n",
    "path_to_bad_csv = \"/run/media/Thytu/VDA/SmartShark/Datasets/DDoS/ds/only_ddos.csv\""
   ]
  },
  {
   "cell_type": "markdown",
   "metadata": {},
   "source": [
    "### Avoir une idée de la dataset"
   ]
  },
  {
   "cell_type": "code",
   "execution_count": 25,
   "metadata": {},
   "outputs": [],
   "source": [
    "clean_csv = pd.read_csv(path_to_clean_csv, names=[\"Delta Time\", \"Len paquets Fwd\", \"Len paquets Bwd\", \"Proto maj\", \"% meme Ip src\", \"% meme port src\", \"% meme Ip dst\", \"% meme port dst\"])\n",
    "bad_csv = pd.read_csv(path_to_bad_csv, names=[\"Delta Time\", \"Len paquets Fwd\", \"Len paquets Bwd\", \"Proto maj\", \"% meme Ip src\", \"% meme port src\", \"% meme Ip dst\", \"% meme port dst\"])"
   ]
  },
  {
   "cell_type": "code",
   "execution_count": 26,
   "metadata": {},
   "outputs": [
    {
     "data": {
      "text/html": [
       "<div>\n",
       "<style scoped>\n",
       "    .dataframe tbody tr th:only-of-type {\n",
       "        vertical-align: middle;\n",
       "    }\n",
       "\n",
       "    .dataframe tbody tr th {\n",
       "        vertical-align: top;\n",
       "    }\n",
       "\n",
       "    .dataframe thead th {\n",
       "        text-align: right;\n",
       "    }\n",
       "</style>\n",
       "<table border=\"1\" class=\"dataframe\">\n",
       "  <thead>\n",
       "    <tr style=\"text-align: right;\">\n",
       "      <th></th>\n",
       "      <th>Delta Time</th>\n",
       "      <th>Len paquets Fwd</th>\n",
       "      <th>Len paquets Bwd</th>\n",
       "      <th>Proto maj</th>\n",
       "      <th>% meme Ip src</th>\n",
       "      <th>% meme port src</th>\n",
       "      <th>% meme Ip dst</th>\n",
       "      <th>% meme port dst</th>\n",
       "    </tr>\n",
       "  </thead>\n",
       "  <tbody>\n",
       "    <tr>\n",
       "      <th>0</th>\n",
       "      <td>2104339.0</td>\n",
       "      <td>2232.0</td>\n",
       "      <td>552.0</td>\n",
       "      <td>6</td>\n",
       "      <td>72.727273</td>\n",
       "      <td>18.181818</td>\n",
       "      <td>18.181818</td>\n",
       "      <td>54.545455</td>\n",
       "    </tr>\n",
       "    <tr>\n",
       "      <th>1</th>\n",
       "      <td>107515.0</td>\n",
       "      <td>482.0</td>\n",
       "      <td>36.0</td>\n",
       "      <td>6</td>\n",
       "      <td>54.545455</td>\n",
       "      <td>45.454545</td>\n",
       "      <td>45.454545</td>\n",
       "      <td>54.545455</td>\n",
       "    </tr>\n",
       "    <tr>\n",
       "      <th>2</th>\n",
       "      <td>8000355.0</td>\n",
       "      <td>493.0</td>\n",
       "      <td>24.0</td>\n",
       "      <td>6</td>\n",
       "      <td>45.454545</td>\n",
       "      <td>36.363636</td>\n",
       "      <td>36.363636</td>\n",
       "      <td>45.454545</td>\n",
       "    </tr>\n",
       "    <tr>\n",
       "      <th>3</th>\n",
       "      <td>72477141.0</td>\n",
       "      <td>339.0</td>\n",
       "      <td>170.0</td>\n",
       "      <td>6</td>\n",
       "      <td>36.363636</td>\n",
       "      <td>45.454545</td>\n",
       "      <td>36.363636</td>\n",
       "      <td>36.363636</td>\n",
       "    </tr>\n",
       "    <tr>\n",
       "      <th>4</th>\n",
       "      <td>33603326.0</td>\n",
       "      <td>3890.0</td>\n",
       "      <td>31224.0</td>\n",
       "      <td>6</td>\n",
       "      <td>63.636364</td>\n",
       "      <td>18.181818</td>\n",
       "      <td>27.272727</td>\n",
       "      <td>27.272727</td>\n",
       "    </tr>\n",
       "  </tbody>\n",
       "</table>\n",
       "</div>"
      ],
      "text/plain": [
       "   Delta Time  Len paquets Fwd  Len paquets Bwd  Proto maj  % meme Ip src  \\\n",
       "0   2104339.0           2232.0            552.0          6      72.727273   \n",
       "1    107515.0            482.0             36.0          6      54.545455   \n",
       "2   8000355.0            493.0             24.0          6      45.454545   \n",
       "3  72477141.0            339.0            170.0          6      36.363636   \n",
       "4  33603326.0           3890.0          31224.0          6      63.636364   \n",
       "\n",
       "   % meme port src  % meme Ip dst  % meme port dst  \n",
       "0        18.181818      18.181818        54.545455  \n",
       "1        45.454545      45.454545        54.545455  \n",
       "2        36.363636      36.363636        45.454545  \n",
       "3        45.454545      36.363636        36.363636  \n",
       "4        18.181818      27.272727        27.272727  "
      ]
     },
     "execution_count": 26,
     "metadata": {},
     "output_type": "execute_result"
    }
   ],
   "source": [
    "clean_csv.head()"
   ]
  },
  {
   "cell_type": "code",
   "execution_count": 27,
   "metadata": {},
   "outputs": [
    {
     "data": {
      "text/html": [
       "<div>\n",
       "<style scoped>\n",
       "    .dataframe tbody tr th:only-of-type {\n",
       "        vertical-align: middle;\n",
       "    }\n",
       "\n",
       "    .dataframe tbody tr th {\n",
       "        vertical-align: top;\n",
       "    }\n",
       "\n",
       "    .dataframe thead th {\n",
       "        text-align: right;\n",
       "    }\n",
       "</style>\n",
       "<table border=\"1\" class=\"dataframe\">\n",
       "  <thead>\n",
       "    <tr style=\"text-align: right;\">\n",
       "      <th></th>\n",
       "      <th>Delta Time</th>\n",
       "      <th>Len paquets Fwd</th>\n",
       "      <th>Len paquets Bwd</th>\n",
       "      <th>Proto maj</th>\n",
       "      <th>% meme Ip src</th>\n",
       "      <th>% meme port src</th>\n",
       "      <th>% meme Ip dst</th>\n",
       "      <th>% meme port dst</th>\n",
       "    </tr>\n",
       "  </thead>\n",
       "  <tbody>\n",
       "    <tr>\n",
       "      <th>0</th>\n",
       "      <td>122485461.0</td>\n",
       "      <td>3050.0</td>\n",
       "      <td>4586.0</td>\n",
       "      <td>6</td>\n",
       "      <td>90.909091</td>\n",
       "      <td>18.181818</td>\n",
       "      <td>90.909091</td>\n",
       "      <td>18.181818</td>\n",
       "    </tr>\n",
       "    <tr>\n",
       "      <th>1</th>\n",
       "      <td>102957242.0</td>\n",
       "      <td>5776.0</td>\n",
       "      <td>8816.0</td>\n",
       "      <td>6</td>\n",
       "      <td>81.818182</td>\n",
       "      <td>18.181818</td>\n",
       "      <td>81.818182</td>\n",
       "      <td>36.363636</td>\n",
       "    </tr>\n",
       "    <tr>\n",
       "      <th>2</th>\n",
       "      <td>89095436.0</td>\n",
       "      <td>2906.0</td>\n",
       "      <td>4474.0</td>\n",
       "      <td>6</td>\n",
       "      <td>100.000000</td>\n",
       "      <td>18.181818</td>\n",
       "      <td>100.000000</td>\n",
       "      <td>9.090909</td>\n",
       "    </tr>\n",
       "    <tr>\n",
       "      <th>3</th>\n",
       "      <td>70065120.0</td>\n",
       "      <td>5444.0</td>\n",
       "      <td>11038.0</td>\n",
       "      <td>6</td>\n",
       "      <td>81.818182</td>\n",
       "      <td>18.181818</td>\n",
       "      <td>81.818182</td>\n",
       "      <td>36.363636</td>\n",
       "    </tr>\n",
       "    <tr>\n",
       "      <th>4</th>\n",
       "      <td>78350323.0</td>\n",
       "      <td>3010.0</td>\n",
       "      <td>4462.0</td>\n",
       "      <td>6</td>\n",
       "      <td>90.909091</td>\n",
       "      <td>18.181818</td>\n",
       "      <td>90.909091</td>\n",
       "      <td>27.272727</td>\n",
       "    </tr>\n",
       "  </tbody>\n",
       "</table>\n",
       "</div>"
      ],
      "text/plain": [
       "    Delta Time  Len paquets Fwd  Len paquets Bwd  Proto maj  % meme Ip src  \\\n",
       "0  122485461.0           3050.0           4586.0          6      90.909091   \n",
       "1  102957242.0           5776.0           8816.0          6      81.818182   \n",
       "2   89095436.0           2906.0           4474.0          6     100.000000   \n",
       "3   70065120.0           5444.0          11038.0          6      81.818182   \n",
       "4   78350323.0           3010.0           4462.0          6      90.909091   \n",
       "\n",
       "   % meme port src  % meme Ip dst  % meme port dst  \n",
       "0        18.181818      90.909091        18.181818  \n",
       "1        18.181818      81.818182        36.363636  \n",
       "2        18.181818     100.000000         9.090909  \n",
       "3        18.181818      81.818182        36.363636  \n",
       "4        18.181818      90.909091        27.272727  "
      ]
     },
     "execution_count": 27,
     "metadata": {},
     "output_type": "execute_result"
    }
   ],
   "source": [
    "bad_csv.head()"
   ]
  },
  {
   "cell_type": "markdown",
   "metadata": {},
   "source": [
    "### Préparation finale de la dataset\n",
    "#### Mélange des deux dataset pour en former plus qu'une seul et création des labels"
   ]
  },
  {
   "cell_type": "code",
   "execution_count": 28,
   "metadata": {},
   "outputs": [
    {
     "name": "stdout",
     "output_type": "stream",
     "text": [
      "[1.22485461e+08 3.05000000e+03 4.58600000e+03 6.00000000e+00\n",
      " 9.09090909e+01 1.81818182e+01 9.09090909e+01 1.81818182e+01] 1\n"
     ]
    }
   ],
   "source": [
    "clean_csv = clean_csv.values.reshape(430, 8)\n",
    "bad_csv = bad_csv.values.reshape(16996, 8)\n",
    "\n",
    "def create_mixed_data_set_with_label(cleaned, bad):\n",
    "    dataset = []\n",
    "    label = []\n",
    "    index_cleaned = 0\n",
    "    index_bad = 0\n",
    "    index = 0\n",
    "    while (index < (len(cleaned) + len(bad) - 1)):\n",
    "        if (index % 2 and index_cleaned < len(cleaned)):\n",
    "            dataset.append(cleaned[index_cleaned])\n",
    "            index_cleaned += 1\n",
    "            label.append(0)\n",
    "        else:\n",
    "            dataset.append(bad[index_bad])\n",
    "            index_bad += 1\n",
    "            label.append(1)\n",
    "        index += 1\n",
    "    return (dataset, label)\n",
    "dataset, label = create_mixed_data_set_with_label(clean_csv, bad_csv)\n",
    "print(dataset[0], label[0])"
   ]
  },
  {
   "cell_type": "markdown",
   "metadata": {},
   "source": [
    "#### Diminiuer l'effet des grands nombres pour facilité l'apprentissage du réseau"
   ]
  },
  {
   "cell_type": "code",
   "execution_count": 29,
   "metadata": {},
   "outputs": [
    {
     "name": "stdout",
     "output_type": "stream",
     "text": [
      "[1.22485461e+08 3.05000000e+03 4.58600000e+03 6.00000000e+00\n",
      " 9.09090909e+01 1.81818182e+01 9.09090909e+01 1.81818182e+01]\n",
      "[ 3.33907008e+01 -7.63051216e-01  2.46709784e-04 -7.81093312e+00\n",
      " -1.37636623e+00 -5.83855863e-01 -8.29604913e-01  9.26114848e-01]\n"
     ]
    }
   ],
   "source": [
    "from sklearn.preprocessing import StandardScaler\n",
    "\n",
    "scaler = StandardScaler()\n",
    "print(dataset[0])\n",
    "dataset = scaler.fit_transform(dataset)\n",
    "print(dataset[0])"
   ]
  },
  {
   "cell_type": "markdown",
   "metadata": {},
   "source": [
    "#### Transformation de la list en np.array"
   ]
  },
  {
   "cell_type": "code",
   "execution_count": 30,
   "metadata": {},
   "outputs": [
    {
     "name": "stdout",
     "output_type": "stream",
     "text": [
      "(17425, 8) float64\n",
      "(17425,) int64\n"
     ]
    }
   ],
   "source": [
    "label = np.array(label)\n",
    "print(dataset.shape, dataset.dtype)\n",
    "print(label.shape, label.dtype)"
   ]
  },
  {
   "cell_type": "markdown",
   "metadata": {},
   "source": [
    "#### Création du model "
   ]
  },
  {
   "cell_type": "code",
   "execution_count": 31,
   "metadata": {},
   "outputs": [],
   "source": [
    "model = tf.keras.Sequential([\n",
    "  tf.keras.layers.Dense(8, activation=\"relu\"),  # input shape required\n",
    "  #tf.keras.layers.Dense(230, activation=\"relu\"), #WTF PK 230 ?\n",
    "  tf.keras.layers.Dense(2, activation=\"softmax\")\n",
    "])\n",
    "\n",
    "model.compile(\n",
    "    loss=\"sparse_categorical_crossentropy\",\n",
    "    optimizer=\"sgd\",\n",
    "    metrics=[\"accuracy\"]\n",
    ")"
   ]
  },
  {
   "cell_type": "markdown",
   "metadata": {},
   "source": [
    "#### Entrainement du model"
   ]
  },
  {
   "cell_type": "code",
   "execution_count": 32,
   "metadata": {},
   "outputs": [
    {
     "name": "stdout",
     "output_type": "stream",
     "text": [
      "Train on 17425 samples\n",
      "Epoch 1/9\n",
      "17425/17425 [==============================] - 1s 60us/sample - loss: 0.2444 - accuracy: 0.9628\n",
      "Epoch 2/9\n",
      "17425/17425 [==============================] - 1s 51us/sample - loss: 0.0524 - accuracy: 0.9971\n",
      "Epoch 3/9\n",
      "17425/17425 [==============================] - 1s 48us/sample - loss: 0.0260 - accuracy: 0.9987\n",
      "Epoch 4/9\n",
      "17425/17425 [==============================] - 1s 57us/sample - loss: 0.0170 - accuracy: 0.9990\n",
      "Epoch 5/9\n",
      "17425/17425 [==============================] - 1s 53us/sample - loss: 0.0126 - accuracy: 0.9991\n",
      "Epoch 6/9\n",
      "17425/17425 [==============================] - 1s 46us/sample - loss: 0.0101 - accuracy: 0.9991\n",
      "Epoch 7/9\n",
      "17425/17425 [==============================] - 1s 46us/sample - loss: 0.0084 - accuracy: 0.9992\n",
      "Epoch 8/9\n",
      "17425/17425 [==============================] - 1s 48us/sample - loss: 0.0074 - accuracy: 0.9993\n",
      "Epoch 9/9\n",
      "17425/17425 [==============================] - 1s 53us/sample - loss: 0.0066 - accuracy: 0.9992\n"
     ]
    }
   ],
   "source": [
    "history = model.fit(dataset, label, epochs=9)"
   ]
  },
  {
   "cell_type": "markdown",
   "metadata": {},
   "source": [
    "#### Résultat sous graphique du model"
   ]
  },
  {
   "cell_type": "code",
   "execution_count": 33,
   "metadata": {},
   "outputs": [
    {
     "data": {
      "image/png": "[encoded data removed]",
      "text/plain": [
       "<Figure size 432x288 with 1 Axes>"
      ]
     },
     "metadata": {
      "needs_background": "light"
     },
     "output_type": "display_data"
    },
    {
     "data": {
      "image/png": "[encoded data removed]",
      "text/plain": [
       "<Figure size 432x288 with 1 Axes>"
      ]
     },
     "metadata": {
      "needs_background": "light"
     },
     "output_type": "display_data"
    }
   ],
   "source": [
    "loss_curve = history.history[\"loss\"]\n",
    "acc_curve = history.history[\"accuracy\"]\n",
    "\n",
    "plt.plot(loss_curve)\n",
    "plt.title(\"Loss\")\n",
    "plt.show()\n",
    "\n",
    "plt.plot(acc_curve)\n",
    "plt.title(\"Accuracy\")\n",
    "plt.show()"
   ]
  },
  {
   "cell_type": "code",
   "execution_count": null,
   "metadata": {},
   "outputs": [],
   "source": []
  }
 ],
 "metadata": {
  "kernelspec": {
   "display_name": "Python 3",
   "language": "python",
   "name": "python3"
  },
  "language_info": {
   "codemirror_mode": {
    "name": "ipython",
    "version": 3
   },
   "file_extension": ".py",
   "mimetype": "text/x-python",
   "name": "python",
   "nbconvert_exporter": "python",
   "pygments_lexer": "ipython3",
   "version": "3.7.6"
  }
 },
 "nbformat": 4,
 "nbformat_minor": 4
}
